{
 "cells": [
  {
   "cell_type": "code",
   "execution_count": 1,
   "metadata": {},
   "outputs": [],
   "source": [
    "%load_ext autoreload\n",
    "%autoreload 2"
   ]
  },
  {
   "cell_type": "code",
   "execution_count": 22,
   "metadata": {},
   "outputs": [],
   "source": [
    "from component.scripts.gee_parse_reduce_regions import reduceGroups\n",
    "import ee\n",
    "from component.scripts.gee import no_remap\n",
    "from component.scripts.scripts import map_matrix_to_dict\n",
    "import component.parameter.module_parameter as param\n",
    "import pygaul\n",
    "\n",
    "ee.Initialize(project=\"ee-dfgm2006\")\n",
    "geometries = ee.FeatureCollection(\n",
    "    [\n",
    "        ee.Feature(\n",
    "            ee.Geometry.Polygon(\n",
    "                [\n",
    "                    [\n",
    "                        [5.262516683862475, 46.39655013792998],\n",
    "                        [5.262516683862475, 45.63360136660453],\n",
    "                        [6.580876058862475, 45.63360136660453],\n",
    "                        [6.580876058862475, 46.39655013792998],\n",
    "                    ]\n",
    "                ],\n",
    "                None,\n",
    "                False,\n",
    "            ),\n",
    "            {\"system:index\": \"0\"},\n",
    "        ),\n",
    "        ee.Feature(\n",
    "            ee.Geometry.Polygon(\n",
    "                [\n",
    "                    [\n",
    "                        [9.569157308862474, 47.74335902540055],\n",
    "                        [9.569157308862474, 46.99933410813134],\n",
    "                        [10.931461996362474, 46.99933410813134],\n",
    "                        [10.931461996362474, 47.74335902540055],\n",
    "                    ]\n",
    "                ],\n",
    "                None,\n",
    "                False,\n",
    "            ),\n",
    "            {\"system:index\": \"1\"},\n",
    "        ),\n",
    "        ee.Feature(\n",
    "            ee.Geometry.Polygon(\n",
    "                [\n",
    "                    [\n",
    "                        [13.084782308862474, 46.6082900232144],\n",
    "                        [13.084782308862474, 45.87889028991833],\n",
    "                        [14.315251058862474, 45.87889028991833],\n",
    "                        [14.315251058862474, 46.6082900232144],\n",
    "                    ]\n",
    "                ],\n",
    "                None,\n",
    "                False,\n",
    "            ),\n",
    "            {\"system:index\": \"2\"},\n",
    "        ),\n",
    "    ]\n",
    ")\n",
    "aoi_name = \"Risaralda\"\n",
    "aoi = pygaul.Items(aoi_name)"
   ]
  },
  {
   "cell_type": "code",
   "execution_count": 9,
   "metadata": {},
   "outputs": [],
   "source": [
    "# Read the default land cover remapping table and convert it to a dictionary\n",
    "\n",
    "default_remap_matrix = map_matrix_to_dict(param.LC_MAP_MATRIX)"
   ]
  },
  {
   "cell_type": "code",
   "execution_count": 48,
   "metadata": {},
   "outputs": [],
   "source": [
    "# group1 = ee.Image.random(1).multiply(2).round()\n",
    "# group2 = ee.Image.random(2).multiply(2).round()\n",
    "# # group3 = ee.Image.random(3).multiply(2).round()\n",
    "# image = ee.Image(group1.multiply(3).add(group2))\n",
    "\n",
    "image = ee.Image.pixelArea().divide(1e6)\n",
    "group1 = no_remap(ee.Image(\"users/amitghosh/sdg_module/esa/cci_landcover/2000\"), default_remap_matrix)\n",
    "group2 = ee.Image(\"users/xavidelamo/SDG1542_Mntn_BioclimaticBelts\")\n",
    "\n",
    "\n",
    "reducer = (\n",
    "    # ee.Reducer.mean()\n",
    "    # .combine(ee.Reducer.sum(), None, True)\n",
    "    ee.Reducer.sum()\n",
    "        .group(1, \"lc\")\n",
    "        .group(2, \"biobelt\")\n",
    "        # .group(3, \"group2\")\n",
    ")\n",
    "\n",
    "reduceRegion = (\n",
    "    image.addBands(group1)\n",
    "    .addBands(group2)\n",
    "    # .addBands(group3)\n",
    "    .reduceRegion(\n",
    "        **{\n",
    "            \"reducer\": reducer,\n",
    "            \"geometry\": aoi.geometry(),\n",
    "            \"scale\": 1000,\n",
    "        }\n",
    "    ).get(\"groups\")\n",
    ")\n",
    "\n",
    "reduceRegions = (\n",
    "    image.addBands(group1)\n",
    "    .addBands(group2)\n",
    "    # .addBands(group3)\n",
    "    .reduceRegions(**{\"collection\": aoi, \"reducer\": reducer, \"scale\": 30})\n",
    ")"
   ]
  },
  {
   "cell_type": "code",
   "execution_count": 49,
   "metadata": {},
   "outputs": [],
   "source": [
    "reduceRegionsSum = reduceGroups(\n",
    "    **{\n",
    "        \"reducer\": ee.Reducer.sum(),\n",
    "        # \"reducer\": ee.Reducer.sum().forEach([\"mean_sum\", \"sum_sum\"]),\n",
    "        \"featureCollection\": reduceRegions,\n",
    "        \"groupKeys\": [\"lc\", \"biobelt\"],\n",
    "    }\n",
    ")"
   ]
  },
  {
   "cell_type": "code",
   "execution_count": 50,
   "metadata": {},
   "outputs": [
    {
     "data": {
      "text/plain": [
       "[{'biobelt': 4,\n",
       "  'groups': [{'lc': 1, 'sum': 0.641873471968588},\n",
       "   {'lc': 2, 'sum': 109.50770498675655},\n",
       "   {'lc': 4, 'sum': 102.90517155784703},\n",
       "   {'lc': 5, 'sum': 3.779320210920271},\n",
       "   {'lc': 6, 'sum': 0.09795563781738302}]}]"
      ]
     },
     "execution_count": 50,
     "metadata": {},
     "output_type": "execute_result"
    }
   ],
   "source": [
    "reduceRegionsSum.getInfo()"
   ]
  },
  {
   "cell_type": "code",
   "execution_count": 51,
   "metadata": {},
   "outputs": [
    {
     "data": {
      "text/plain": [
       "[{'biobelt': 4,\n",
       "  'groups': [{'lc': 1, 'sum': 0.9895346875},\n",
       "   {'lc': 2, 'sum': 108.3664551916666},\n",
       "   {'lc': 4, 'sum': 104.53144841936276},\n",
       "   {'lc': 5, 'sum': 2.9568298169117644}]}]"
      ]
     },
     "execution_count": 51,
     "metadata": {},
     "output_type": "execute_result"
    }
   ],
   "source": [
    "reduceRegion.getInfo()"
   ]
  },
  {
   "cell_type": "code",
   "execution_count": null,
   "metadata": {},
   "outputs": [],
   "source": [
    "reducedDict = reduced[0]\n",
    "acc = ee.Dictionary({})\n",
    "pathKey = \"__path__\""
   ]
  },
  {
   "cell_type": "code",
   "execution_count": null,
   "metadata": {},
   "outputs": [],
   "source": [
    "reducedDict = ee.Dictionary(reducedDict)\n",
    "acc = ee.Dictionary(acc)\n",
    "path = reducedDict.getString(pathKey)\n",
    "groups = path.split(\"_\").map(lambda group: ee.Number.parse(ee.String(group)))"
   ]
  },
  {
   "cell_type": "code",
   "execution_count": null,
   "metadata": {},
   "outputs": [],
   "source": [
    "path.getInfo()"
   ]
  },
  {
   "cell_type": "code",
   "execution_count": null,
   "metadata": {},
   "outputs": [],
   "source": [
    "groups.getInfo()"
   ]
  }
 ],
 "metadata": {
  "kernelspec": {
   "display_name": "sepal_mgci",
   "language": "python",
   "name": "python3"
  },
  "language_info": {
   "codemirror_mode": {
    "name": "ipython",
    "version": 3
   },
   "file_extension": ".py",
   "mimetype": "text/x-python",
   "name": "python",
   "nbconvert_exporter": "python",
   "pygments_lexer": "ipython3",
   "version": "3.10.12"
  }
 },
 "nbformat": 4,
 "nbformat_minor": 2
}
