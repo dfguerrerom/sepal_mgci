{
 "cells": [
  {
   "cell_type": "markdown",
   "metadata": {},
   "source": [
    "## Calculate subindicator B"
   ]
  },
  {
   "cell_type": "code",
   "execution_count": 1,
   "metadata": {},
   "outputs": [],
   "source": [
    "%load_ext autoreload\n",
    "%autoreload 2"
   ]
  },
  {
   "cell_type": "code",
   "execution_count": 2,
   "metadata": {},
   "outputs": [],
   "source": [
    "import ee\n",
    "ee.Initialize(project=\"ee-dfgm2006\")\n",
    "import pygaul\n",
    "import pandas as pd\n",
    "from pathlib import Path\n",
    "\n",
    "import component.parameter.module_parameter as param\n",
    "from component.scripts.gee import reduce_regions\n",
    "from component.scripts.scripts import get_b_years, map_matrix_to_dict, read_from_csv, get_sub_b_items, get_reporting_years, parse_to_year\n",
    "from component.scripts import sub_b as sub_b\n",
    "\n",
    "from openpyxl.utils import get_column_letter\n",
    "from openpyxl.styles import Alignment\n",
    "\n",
    "# If using outsite SEPAL, manually set a project"
   ]
  },
  {
   "cell_type": "code",
   "execution_count": 3,
   "metadata": {},
   "outputs": [],
   "source": [
    "# Here I'm using pygaul to get the AOI based on the name\n",
    "# but you can use any feature collection from Earth Engine\n",
    "# just replace the aoi with your feature collection.\n",
    "\n",
    "aoi_name = \"Risaralda\"\n",
    "aoi = pygaul.Items(aoi_name)"
   ]
  },
  {
   "cell_type": "code",
   "execution_count": 4,
   "metadata": {},
   "outputs": [],
   "source": [
    "# Read the default land cover remapping table and convert it into a dictionary\n",
    "default_map_matrix = map_matrix_to_dict(param.LC_MAP_MATRIX)\n",
    "\n",
    "# Set the defauult transition matrix path\n",
    "default_transition_matrix_path = param.TRANSITION_MATRIX_FILE"
   ]
  },
  {
   "cell_type": "code",
   "execution_count": 5,
   "metadata": {},
   "outputs": [
    {
     "data": {
      "text/plain": [
       "[({'asset': 'users/amitghosh/sdg_module/esa/cci_landcover/2000', 'year': 2000},\n",
       "  {'asset': 'users/amitghosh/sdg_module/esa/cci_landcover/2015', 'year': 2015},\n",
       "  {'asset': 'users/amitghosh/sdg_module/esa/cci_landcover/2018',\n",
       "   'year': 2018})]"
      ]
     },
     "execution_count": 5,
     "metadata": {},
     "output_type": "execute_result"
    }
   ],
   "source": [
    "# For SUB_B indicator, we need to set the following structure\n",
    "sub_b_year = {\n",
    "    \"baseline\": {\n",
    "        \"base\": {\n",
    "            \"asset\": \"users/amitghosh/sdg_module/esa/cci_landcover/2000\",\n",
    "            \"year\": 2000,\n",
    "        },\n",
    "        \"report\": {\n",
    "            \"asset\": \"users/amitghosh/sdg_module/esa/cci_landcover/2015\",\n",
    "            \"year\": 2015,\n",
    "        },\n",
    "    },\n",
    "    # And the reporting year\n",
    "    2: {\"asset\": \"users/amitghosh/sdg_module/esa/cci_landcover/2018\", \"year\": 2018},\n",
    "}\n",
    "\n",
    "# \n",
    "years = get_b_years(sub_b_year)\n",
    "years"
   ]
  },
  {
   "cell_type": "code",
   "execution_count": 6,
   "metadata": {},
   "outputs": [],
   "source": [
    "process = ee.FeatureCollection([\n",
    "    ee.Feature(\n",
    "        None, \n",
    "        reduce_regions(\n",
    "            aoi,\n",
    "            remap_matrix=default_map_matrix,\n",
    "            rsa=False,\n",
    "            dem=param.DEM_DEFAULT, \n",
    "            lc_years= year,\n",
    "            transition_matrix=default_transition_matrix_path\n",
    "        )\n",
    "    ).set(\"process_id\", \"_\".join([str(y[\"year\"]) for y in year]))\n",
    " for year in years\n",
    "])"
   ]
  },
  {
   "cell_type": "code",
   "execution_count": 7,
   "metadata": {},
   "outputs": [],
   "source": [
    "task_name = \"Risaralda_sub_b\""
   ]
  },
  {
   "cell_type": "code",
   "execution_count": 8,
   "metadata": {},
   "outputs": [],
   "source": [
    "task = ee.batch.Export.table.toDrive(\n",
    "    **{\n",
    "        \"collection\": process,\n",
    "        \"description\": task_name,\n",
    "        \"fileFormat\": \"CSV\",\n",
    "    }\n",
    ")\n",
    "task.start()"
   ]
  },
  {
   "cell_type": "markdown",
   "metadata": {},
   "source": [
    "# Read, process, and create report tables"
   ]
  },
  {
   "cell_type": "code",
   "execution_count": null,
   "metadata": {},
   "outputs": [],
   "source": [
    "# Manually check your earth engine task status, once the task is completed, run the next cell\n",
    "# according to the task name you have set above."
   ]
  },
  {
   "cell_type": "code",
   "execution_count": null,
   "metadata": {},
   "outputs": [],
   "source": [
    "\n",
    "results_file_path = Path().home()/ \"downloads\"/ \"Risaralda_sub_b.csv\"\n",
    "report_folder = Path().home() / f\"downloads/sub_b_report/{aoi_name}\"\n",
    "report_folder.mkdir(parents=True, exist_ok=True)\n",
    "\n",
    "output_name = str(\n",
    "    Path(report_folder, f\"Sub_b_{aoi_name}.xlsx\")\n",
    ")"
   ]
  },
  {
   "cell_type": "code",
   "execution_count": null,
   "metadata": {},
   "outputs": [],
   "source": [
    "# This line will read the results from the CSV file and parse it to a dictionary\n",
    "dict_results = read_from_csv(results_file_path)\n",
    "dict_results"
   ]
  },
  {
   "cell_type": "code",
   "execution_count": null,
   "metadata": {},
   "outputs": [],
   "source": [
    "sub_b_reports = []\n",
    "reporting_years_sub_b = get_reporting_years(sub_b_year, \"sub_b\")\n",
    "_, sub_b_years = get_sub_b_items(reporting_years_sub_b)\n",
    "\n",
    "for year in sub_b_years:\n",
    "    print(f\"Reporting {year} for sub_b\")\n",
    "    # Get year label for the report\n",
    "    parsed_df = parse_to_year(dict_results, year)\n",
    "    sub_b_reports.append(\n",
    "        sub_b.get_reports(\n",
    "            parsed_df, \n",
    "            year, \n",
    "            geo_area_name = \"\", \n",
    "            ref_area = \"\", \n",
    "            source_detail = \"\", \n",
    "            transition_matrix = default_transition_matrix_path\n",
    "        ))"
   ]
  },
  {
   "cell_type": "code",
   "execution_count": null,
   "metadata": {},
   "outputs": [],
   "source": [
    "# sub b reports\n",
    "er_mtn_dgrp_df = pd.concat([report[0] for report in sub_b_reports])\n",
    "er_mtn_dgda_df = pd.concat([report[1] for report in sub_b_reports])"
   ]
  },
  {
   "cell_type": "code",
   "execution_count": null,
   "metadata": {},
   "outputs": [],
   "source": [
    "# This will create the excel file with the reports\n",
    "\n",
    "with pd.ExcelWriter(output_name) as writer:\n",
    "    er_mtn_dgda_df.to_excel(writer, sheet_name=\"Table4_ER_MTN_DGRDA\", index=False)\n",
    "    er_mtn_dgrp_df.to_excel(writer, sheet_name=\"Table5_ER_MTN_DGRDP\", index=False)\n",
    "    \n",
    "    for sheetname in writer.sheets:\n",
    "        worksheet = writer.sheets[sheetname]\n",
    "        for col in worksheet.columns:\n",
    "            max_length = 0\n",
    "            column = col[0]\n",
    "            for cell in col:\n",
    "                try:\n",
    "                    if len(str(cell.value)) > max_length:\n",
    "                        max_length = len(cell.value)\n",
    "                except:\n",
    "                    pass\n",
    "            adjusted_width = max(max_length, len(str(column.value))) + 4\n",
    "            worksheet.column_dimensions[get_column_letter(column.column)].width = (\n",
    "                adjusted_width\n",
    "            )\n",
    "\n",
    "            # Align \"obs_value\" column to the right\n",
    "            if \"OBS\" in column.value:\n",
    "                for cell in col:\n",
    "                    cell.alignment = Alignment(horizontal=\"right\")"
   ]
  },
  {
   "cell_type": "code",
   "execution_count": null,
   "metadata": {},
   "outputs": [],
   "source": []
  }
 ],
 "metadata": {
  "kernelspec": {
   "display_name": "sepal_mgci",
   "language": "python",
   "name": "python3"
  },
  "language_info": {
   "codemirror_mode": {
    "name": "ipython",
    "version": 3
   },
   "file_extension": ".py",
   "mimetype": "text/x-python",
   "name": "python",
   "nbconvert_exporter": "python",
   "pygments_lexer": "ipython3",
   "version": "3.10.12"
  }
 },
 "nbformat": 4,
 "nbformat_minor": 2
}
