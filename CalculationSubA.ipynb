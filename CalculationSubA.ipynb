{
 "cells": [
  {
   "cell_type": "code",
   "execution_count": 1,
   "metadata": {},
   "outputs": [],
   "source": [
    "%load_ext autoreload\n",
    "%autoreload 2"
   ]
  },
  {
   "cell_type": "code",
   "execution_count": 2,
   "metadata": {},
   "outputs": [],
   "source": [
    "import ee\n",
    "ee.Initialize(project=\"ee-dfgm2006\")\n",
    "import pygaul\n",
    "\n",
    "import component.parameter.module_parameter as param\n",
    "from component.scripts.gee import reduce_regions\n",
    "from component.scripts.scripts import get_a_years, map_matrix_to_dict, parse_result\n",
    "import pandas as pd\n",
    "from pathlib import Path\n",
    "from component.scripts.scripts import read_from_csv\n",
    "from component.scripts import sub_a as sub_a\n",
    "from component.scripts import sub_b as sub_b\n",
    "from component.scripts import mountain_area as mntn\n",
    "from openpyxl.utils import get_column_letter\n",
    "from openpyxl.styles import Alignment"
   ]
  },
  {
   "cell_type": "code",
   "execution_count": 3,
   "metadata": {},
   "outputs": [],
   "source": [
    "# Here I'm using pygaul to get the AOI based on the name\n",
    "# but you can use any feature collection from Earth Engine\n",
    "# just replace the aoi with your feature collection.\n",
    "\n",
    "aoi_name = \"Risaralda\"\n",
    "aoi = pygaul.Items(aoi_name)"
   ]
  },
  {
   "cell_type": "markdown",
   "metadata": {},
   "source": [
    "## SUB INDICATOR A"
   ]
  },
  {
   "cell_type": "code",
   "execution_count": 4,
   "metadata": {},
   "outputs": [],
   "source": [
    "# Read the default land cover remapping table and convert it to a dictionary\n",
    "default_map_matrix = map_matrix_to_dict(param.LC_MAP_MATRIX)"
   ]
  },
  {
   "cell_type": "code",
   "execution_count": 5,
   "metadata": {},
   "outputs": [],
   "source": [
    "# For SUB_A indicator, we need to set the following structure\n",
    "a_years = {\n",
    "    1: {\"asset\": \"users/amitghosh/sdg_module/esa/cci_landcover/2000\", \"year\": 2000},\n",
    "    2: {\"year\": 2003, \"asset\": \"users/amitghosh/sdg_module/esa/cci_landcover/2003\"},\n",
    "    3: {\"year\": 2007, \"asset\": \"users/amitghosh/sdg_module/esa/cci_landcover/2007\"},\n",
    "    4: {\"year\": 2010, \"asset\": \"users/amitghosh/sdg_module/esa/cci_landcover/2010\"},\n",
    "}\n",
    "\n",
    "# Just extract the years from the a_years dictionary\n",
    "single_years = [y[\"year\"] for  y in a_years.values()]"
   ]
  },
  {
   "cell_type": "code",
   "execution_count": 6,
   "metadata": {},
   "outputs": [],
   "source": [
    "process = ee.FeatureCollection([\n",
    "    ee.Feature(\n",
    "        None, \n",
    "        reduce_regions(\n",
    "            aoi,\n",
    "            remap_matrix=default_map_matrix,\n",
    "            rsa=False,\n",
    "            dem=param.DEM_DEFAULT, \n",
    "            lc_years= year,\n",
    "            transition_matrix=False\n",
    "        )\n",
    "    ).set(\"process_id\", year[0][\"year\"])\n",
    " for year in get_a_years(a_years)\n",
    "])"
   ]
  },
  {
   "cell_type": "code",
   "execution_count": 7,
   "metadata": {},
   "outputs": [],
   "source": [
    "task_name = \"Risaralda_sub_a_8\""
   ]
  },
  {
   "cell_type": "code",
   "execution_count": 8,
   "metadata": {},
   "outputs": [],
   "source": [
    "task = ee.batch.Export.table.toDrive(\n",
    "    **{\n",
    "        \"collection\": process,\n",
    "        \"description\": task_name,\n",
    "        \"fileFormat\": \"CSV\",\n",
    "        \"selectors\": [\n",
    "            \"process_id\",\n",
    "            \"sub_a\",\n",
    "        ],\n",
    "    }\n",
    ")\n",
    "task.start()"
   ]
  },
  {
   "cell_type": "markdown",
   "metadata": {},
   "source": [
    "# Read, process, and create report tables"
   ]
  },
  {
   "cell_type": "code",
   "execution_count": null,
   "metadata": {},
   "outputs": [],
   "source": [
    "# Manually check your earth engine task status, once the task is completed, run the next cell\n",
    "# according to the task name you have set above."
   ]
  },
  {
   "cell_type": "code",
   "execution_count": null,
   "metadata": {},
   "outputs": [],
   "source": [
    "results_file_path = Path().home()/ \"Downloads\"/ f\"{task_name}.csv\"\n",
    "report_folder = Path().home() / \"Downloads\" / \"Risaralda\"\n",
    "report_folder.mkdir(exist_ok=True)\n",
    "\n",
    "output_name = str(\n",
    "    Path(report_folder, f\"{task_name}.xlsx\")\n",
    ")"
   ]
  },
  {
   "cell_type": "code",
   "execution_count": null,
   "metadata": {},
   "outputs": [],
   "source": [
    "# This line will read the results from the CSV file and parse it to a dictionary\n",
    "dict_results = read_from_csv(results_file_path)\n",
    "dict_results"
   ]
  },
  {
   "cell_type": "code",
   "execution_count": null,
   "metadata": {},
   "outputs": [],
   "source": [
    "dict_results[2003][\"sub_a\"]"
   ]
  },
  {
   "cell_type": "code",
   "execution_count": null,
   "metadata": {},
   "outputs": [],
   "source": [
    "# Following lines will generate the reports for the sub_a and mtn indicators\n",
    "\n",
    "sub_a_reports = []\n",
    "mtn_reports = []\n",
    "for year in single_years:\n",
    "    print(f\"Reporting {year} for sub_a\")\n",
    "    parsed_df = parse_result(dict_results[year][\"sub_a\"], single=True)\n",
    "\n",
    "    sub_a_reports.append(\n",
    "        sub_a.get_reports(parsed_df, year, geo_area_name = \"\", ref_area = \"\", source_detail = \"\")\n",
    "    )\n",
    "    \n",
    "    print(f\"Reporting {year} for mtn\")\n",
    "    mtn_reports.append(\n",
    "        mntn.get_report(parsed_df, year, geo_area_name = \"\", ref_area = \"\", source_detail = \"\")\n",
    "    )\n"
   ]
  },
  {
   "cell_type": "code",
   "execution_count": null,
   "metadata": {},
   "outputs": [],
   "source": [
    "mtn_reports_df = pd.concat(mtn_reports)\n",
    "\n",
    "# sub a reports\n",
    "er_mtn_grnvi_df = pd.concat([report[0] for report in sub_a_reports])\n",
    "er_mtn_grncov_df = pd.concat([report[1] for report in sub_a_reports])\n"
   ]
  },
  {
   "cell_type": "code",
   "execution_count": null,
   "metadata": {},
   "outputs": [],
   "source": [
    "# This will create the excel file with the reports\n",
    "\n",
    "with pd.ExcelWriter(output_name) as writer:\n",
    "    mtn_reports_df.to_excel(writer, sheet_name=\"Table1_ER_MTN_TOTL\", index=False)\n",
    "    er_mtn_grncov_df.to_excel(\n",
    "        writer, sheet_name=\"Table2_ER_MTN_GRNCOV\", index=False\n",
    "    )\n",
    "    er_mtn_grnvi_df.to_excel(writer, sheet_name=\"Table3_ER_MTN_GRNCVI\", index=False)\n",
    "\n",
    "    for sheetname in writer.sheets:\n",
    "        worksheet = writer.sheets[sheetname]\n",
    "        for col in worksheet.columns:\n",
    "            max_length = 0\n",
    "            column = col[0]\n",
    "            for cell in col:\n",
    "                try:\n",
    "                    if len(str(cell.value)) > max_length:\n",
    "                        max_length = len(cell.value)\n",
    "                except:\n",
    "                    pass\n",
    "            adjusted_width = max(max_length, len(str(column.value))) + 4\n",
    "            worksheet.column_dimensions[get_column_letter(column.column)].width = (\n",
    "                adjusted_width\n",
    "            )\n",
    "\n",
    "            # Align \"obs_value\" column to the right\n",
    "            if \"OBS\" in column.value:\n",
    "                for cell in col:\n",
    "                    cell.alignment = Alignment(horizontal=\"right\")"
   ]
  }
 ],
 "metadata": {
  "kernelspec": {
   "display_name": "sepal_mgci",
   "language": "python",
   "name": "python3"
  },
  "language_info": {
   "codemirror_mode": {
    "name": "ipython",
    "version": 3
   },
   "file_extension": ".py",
   "mimetype": "text/x-python",
   "name": "python",
   "nbconvert_exporter": "python",
   "pygments_lexer": "ipython3",
   "version": "3.10.12"
  }
 },
 "nbformat": 4,
 "nbformat_minor": 2
}
