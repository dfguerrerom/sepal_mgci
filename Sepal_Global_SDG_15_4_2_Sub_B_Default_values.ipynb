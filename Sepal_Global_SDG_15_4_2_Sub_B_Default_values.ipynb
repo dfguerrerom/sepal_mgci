{
  "cells": [
    {
      "cell_type": "code",
      "execution_count": 1,
      "metadata": {
        "id": "Kg3K1EPJu_f5"
      },
      "outputs": [],
      "source": [
        "%load_ext autoreload\n",
        "%autoreload 2"
      ]
    },
    {
      "cell_type": "code",
      "execution_count": 2,
      "metadata": {
        "id": "gHI-M8y_qwaP"
      },
      "outputs": [],
      "source": [
        "from pathlib import Path\n",
        "import ee\n",
        "ee.Initialize()"
      ]
    },
    {
      "cell_type": "code",
      "execution_count": 3,
      "metadata": {},
      "outputs": [
        {
          "data": {
            "text/html": [
              "<style>/*******************************************************************************\n",
              " * Customization of the provided css from the different libs used by sepal_ui\n",
              " */\n",
              "\n",
              "/* replace the map panel elements on top */\n",
              ".leaflet-pane,\n",
              ".leaflet-top,\n",
              ".leaflet-bottom {\n",
              "  z-index: 2 !important;\n",
              "}\n",
              "\n",
              "/* remove the shadow from the widgets on the maps */\n",
              ".leaflet-widgetcontrol {\n",
              "  box-shadow: none;\n",
              "}\n",
              "\n",
              "/* remove extra padding on top of the content */\n",
              "main.v-content {\n",
              "  padding-top: 0px !important;\n",
              "}\n",
              "\n",
              ".v-alert__wrapper .progress {\n",
              "  background-color: transparent;\n",
              "}\n",
              "\n",
              "/* set the bar on top of the map (800) when set to fullscreen */\n",
              "header.v-app-bar {\n",
              "  z-index: 800 !important;\n",
              "}\n",
              "\n",
              "/* set the menu_content on top of the map when it's set to fullscreen */\n",
              ".v-menu__content {\n",
              "  max-width: 100% !important;\n",
              "  z-index: 801 !important;\n",
              "}\n",
              "\n",
              "/* make sure navigation drawers are always visible when they exist */\n",
              "nav.v-navigation-drawer {\n",
              "  z-index: 900 !important;\n",
              "}\n",
              "\n",
              "/* create extra position for the leaflet map controls */\n",
              ".leaflet-center {\n",
              "  left: 50%;\n",
              "  transform: translate(-50%, 0%);\n",
              "}\n",
              "\n",
              ".leaflet-middle {\n",
              "  top: 50%;\n",
              "  position: absolute;\n",
              "  z-index: 1000;\n",
              "  pointer-events: none;\n",
              "  transform: translate(0%, -50%);\n",
              "}\n",
              "\n",
              ".leaflet-center.leaflet-middle {\n",
              "  transform: translate(-50%, -50%);\n",
              "}\n",
              "\n",
              "/* create extra classes to customize the layer_control table */\n",
              ".v-no-hover:hover {\n",
              "  background-color: transparent !important;\n",
              "}\n",
              "\n",
              ".v-no-border tbody tr td,\n",
              ".v-no-border tbody tr th {\n",
              "  border: none !important;\n",
              "}\n",
              "\n",
              "/* extra css rules to make the messages disappear beneath the SimpleSlider */\n",
              ".v-no-messages .v-messages {\n",
              "  display: none;\n",
              "}\n",
              "\n",
              ".v-no-messages .v-input__slot {\n",
              "  margin-bottom: 0;\n",
              "}\n",
              "\n",
              "/* specific css for the btn placed on maps */\n",
              ".v-btn.v-size--default.v-map-btn:not(.v-btn--round) {\n",
              "  padding: 0px;\n",
              "  min-width: 0px;\n",
              "  width: 30px;\n",
              "  height: 30px;\n",
              "}\n",
              "\n",
              "/* add specific css for the zoom btn of the map */\n",
              ".v-btn.v-zoom-plus {\n",
              "  border-bottom-left-radius: 0;\n",
              "  border-bottom-right-radius: 0;\n",
              "}\n",
              "\n",
              ".v-btn.v-zoom-minus {\n",
              "  margin-top: -1px;\n",
              "  border-top-left-radius: 0;\n",
              "  border-top-right-radius: 0;\n",
              "}\n",
              "\n",
              "/* css rules for fullscreen menus */\n",
              ".v-card.v-menu-fullscreen {\n",
              "  width: calc(100vw - 80px);\n",
              "  height: calc(100vh - 20px);\n",
              "}\n",
              "\n",
              "/* hide the disclaimer message placed on top of the ui notebook\n",
              " * the message will be displayed until the css is loaded */\n",
              "#loading-app {\n",
              "  display: none !important;\n",
              "}\n",
              "\n",
              "/* Related with https://github.com/12rambau/sepal_ui/issues/893 */\n",
              "#rendered_cells {\n",
              "  contain: revert !important;\n",
              "  background-color: revert !important;\n",
              "}\n",
              "\n",
              ".full-screen-map > .leaflet-container {\n",
              "  position: fixed !important;\n",
              "  width: 100vw;\n",
              "  height: calc(100vh - 48px);\n",
              "  z-index: 800;\n",
              "  bottom: 0;\n",
              "  left: 0;\n",
              "}\n",
              "</style>"
            ],
            "text/plain": [
              "<IPython.core.display.HTML object>"
            ]
          },
          "metadata": {},
          "output_type": "display_data"
        },
        {
          "data": {
            "text/html": [
              "<link rel=\"stylesheet\" href=\"https://cdnjs.cloudflare.com/ajax/libs/font-awesome/6.2.1/css/all.min.css\"/>"
            ],
            "text/plain": [
              "<IPython.core.display.HTML object>"
            ]
          },
          "metadata": {},
          "output_type": "display_data"
        },
        {
          "data": {
            "application/javascript": "/*******************************************************************************\n * remove any links from fontawesome 5 created by jupyter in favor of\n * fontawesome 6. to be removed when Jupyter updates it\n */\n\nfunction remove_fa5() {\n  let links = document.querySelectorAll(\n    \"link[href^='https://cdn.jsdelivr.net/npm/@fortawesome/fontawesome-free@^5']\"\n  );\n\n  links.forEach((link) => link.remove());\n}\n\nif (document.readyState != \"loading\") remove_fa5();\nelse document.addEventListener(\"DOMContentLoaded\", remove_fa5);\n",
            "text/plain": [
              "<IPython.core.display.Javascript object>"
            ]
          },
          "metadata": {},
          "output_type": "display_data"
        }
      ],
      "source": [
        "import os\n",
        "from datetime import datetime\n",
        "import pandas as pd\n",
        "from openpyxl.utils import get_column_letter\n",
        "from openpyxl.styles import Alignment\n",
        "from pathlib import Path\n",
        "\n",
        "from component.scripts.gee import reduce_regions\n",
        "from component.scripts.scripts import (\n",
        "    map_matrix_to_dict,\n",
        "    parse_result,\n",
        "    read_from_csv,\n",
        "    map_matrix_to_dict,\n",
        ")\n",
        "from component.scripts.colab_combining_files import (\n",
        "    sanitize_description,\n",
        "    append_excel_files,\n",
        ")"
      ]
    },
    {
      "cell_type": "markdown",
      "metadata": {
        "id": "5aIr_OxkG-Ky"
      },
      "source": [
        "Input parameters"
      ]
    },
    {
      "cell_type": "code",
      "execution_count": 13,
      "metadata": {},
      "outputs": [],
      "source": [
        "DEM_DEFAULT = \"CGIAR/SRTM90_V4\"\n",
        "\n",
        "# Define the translation matrix between ESA and MGCI LC classes\n",
        "\n",
        "LC_MAP_MATRIX = Path(\"content/corine_lc_map_matrix2.csv\")\n",
        "TRANSITION_MATRIX_FILE = Path(\"content/default_transition_matrix.csv\")\n",
        "\n",
        "# Check they both exist\n",
        "assert LC_MAP_MATRIX.exists(), \"LC map matrix file not found\"\n",
        "assert TRANSITION_MATRIX_FILE.exists(), \"Transition matrix file not found\""
      ]
    },
    {
      "cell_type": "code",
      "execution_count": 22,
      "metadata": {
        "id": "t9C1qT5bGoqt"
      },
      "outputs": [],
      "source": [
        "admin_asset_id = \"projects/ee-xavidelamo/assets/M49Countries\"\n",
        "\n",
        "admin_asset_property_name = \"M49Name\"\n",
        "\n",
        "\n",
        "# Land cover assets\n",
        "sub_b_year = {\n",
        "    \"baseline\": {\n",
        "        \"base\": {\n",
        "            \"asset\": \"COPERNICUS/CORINE/V20/100m/2000\",\n",
        "            \"year\": 2000,\n",
        "        },\n",
        "        \"report\": {\n",
        "            \"asset\": \"COPERNICUS/CORINE/V20/100m/2012\",\n",
        "            \"year\": 2015,\n",
        "        },\n",
        "    },\n",
        "    # And the reporting year\n",
        "    2: {\"asset\": \"COPERNICUS/CORINE/V20/100m/2018\", \"year\": 2018},\n",
        "}"
      ]
    },
    {
      "cell_type": "code",
      "execution_count": 15,
      "metadata": {},
      "outputs": [],
      "source": [
        "# Set the base directory\n",
        "base_dir = Path(\"content/sdg1542/sub_b\")\n",
        "base_dir.mkdir(parents=True, exist_ok=True)"
      ]
    },
    {
      "cell_type": "code",
      "execution_count": 16,
      "metadata": {},
      "outputs": [],
      "source": [
        "csv_path = base_dir/\"raw_stats\"\n",
        "raw_reports = base_dir/\"raw_reports\"\n",
        "final_report = base_dir/\"final_report\"\n",
        "\n",
        "error_log_file_path = base_dir / \"error_log.csv\"\n",
        "\n",
        "final_report_file_path = final_report / \"final_report.xlsx\"\n",
        "\n",
        "# Create the directories\n",
        "csv_path.mkdir(parents=True, exist_ok=True)\n",
        "raw_reports.mkdir(parents=True, exist_ok=True)\n",
        "final_report.mkdir(parents=True, exist_ok=True)"
      ]
    },
    {
      "cell_type": "code",
      "execution_count": 17,
      "metadata": {
        "id": "mSvTM29TnndR"
      },
      "outputs": [],
      "source": [
        "export = True \n",
        "debug = False "
      ]
    },
    {
      "cell_type": "markdown",
      "metadata": {
        "id": "iV8-wbddOJuT"
      },
      "source": [
        "Temporary output parameters\n"
      ]
    },
    {
      "cell_type": "code",
      "execution_count": 18,
      "metadata": {
        "id": "BiuBEJwPue2v"
      },
      "outputs": [
        {
          "name": "stdout",
          "output_type": "stream",
          "text": [
            "Length of admin boundaries to process 245\n",
            "Length of distinct admin boundaries to process 245\n"
          ]
        }
      ],
      "source": [
        "# admin boundary feature collection\n",
        "admin_boundaries = ee.FeatureCollection(admin_asset_id)\n",
        "\n",
        "# list to process\n",
        "list_of_countries = admin_boundaries.aggregate_array(admin_asset_property_name).getInfo()\n",
        "\n",
        "print (\"Length of admin boundaries to process\", len(list_of_countries))\n",
        "\n",
        "list_of_countries = list(set(list_of_countries)) # remove dupicates\n",
        "\n",
        "print (\"Length of distinct admin boundaries to process\", (len(set(list_of_countries))))\n"
      ]
    },
    {
      "cell_type": "markdown",
      "metadata": {
        "id": "2G1q9TSiUsc1"
      },
      "source": [
        "Read the default land cover remapping table and convert it to a dictionary"
      ]
    },
    {
      "cell_type": "code",
      "execution_count": 19,
      "metadata": {
        "id": "PRSEqq5bu_f7"
      },
      "outputs": [],
      "source": [
        "default_map_matrix = map_matrix_to_dict(LC_MAP_MATRIX)"
      ]
    },
    {
      "cell_type": "markdown",
      "metadata": {
        "id": "P_qX5MSJZ9gs"
      },
      "source": [
        "Set the default transition matrix file path."
      ]
    },
    {
      "cell_type": "code",
      "execution_count": 20,
      "metadata": {
        "id": "REH6-a1xZ9VI"
      },
      "outputs": [
        {
          "name": "stdout",
          "output_type": "stream",
          "text": [
            "content/default_transition_matrix.csv\n"
          ]
        }
      ],
      "source": [
        "default_transition_matrix_path = TRANSITION_MATRIX_FILE\n",
        "print(default_transition_matrix_path)"
      ]
    },
    {
      "cell_type": "markdown",
      "metadata": {
        "id": "4-Ut_-S35Yg8"
      },
      "source": [
        "Select years of land cover to process"
      ]
    },
    {
      "cell_type": "code",
      "execution_count": 23,
      "metadata": {
        "collapsed": true,
        "id": "PwqJFWR4u_f7"
      },
      "outputs": [
        {
          "data": {
            "text/plain": [
              "[({'asset': 'COPERNICUS/CORINE/V20/100m/2000', 'year': 2000},\n",
              "  {'asset': 'COPERNICUS/CORINE/V20/100m/2012', 'year': 2015},\n",
              "  {'asset': 'COPERNICUS/CORINE/V20/100m/2018', 'year': 2018})]"
            ]
          },
          "execution_count": 23,
          "metadata": {},
          "output_type": "execute_result"
        }
      ],
      "source": [
        "# extracts the years from the b_years dictionary\n",
        "from component.scripts.scripts import get_b_years\n",
        "\n",
        "\n",
        "years = get_b_years(sub_b_year)\n",
        "years"
      ]
    },
    {
      "cell_type": "markdown",
      "metadata": {
        "id": "iNxHtR984cNk"
      },
      "source": [
        "### 8) Calculate area statistics by country\n",
        "* Runs for each country and each mountain biobelt\n",
        "* Gets area of land cover reclassified into the 10 SEAM classes\n",
        "* Repeat for each year specified\n"
      ]
    },
    {
      "cell_type": "code",
      "execution_count": 25,
      "metadata": {
        "id": "VftKLuY4u_f7"
      },
      "outputs": [
        {
          "name": "stdout",
          "output_type": "stream",
          "text": [
            " process 245/245 Brunei Darussalam Malvinas) Saba nds Islands  eland "
          ]
        }
      ],
      "source": [
        "counter=0 # starting place of counter used to keep track of number of tasks that are being run\n",
        "\n",
        "for aoi_name in list_of_countries:\n",
        "\n",
        "  aoi = admin_boundaries.filter(ee.Filter.eq(admin_asset_property_name,aoi_name))#.first()\n",
        "\n",
        "  process = ee.FeatureCollection([\n",
        "      ee.Feature(\n",
        "          None,\n",
        "          reduce_regions(\n",
        "              aoi,\n",
        "              remap_matrix=default_map_matrix,\n",
        "              rsa=False,\n",
        "              dem=DEM_DEFAULT,\n",
        "              lc_years= year,\n",
        "              transition_matrix=default_transition_matrix_path\n",
        "          )\n",
        "      ).set(\"process_id\", \"_\".join([str(y[\"year\"]) for y in year]))\n",
        "  for year in years \n",
        "  ])\n",
        "\n",
        "  task_name = sanitize_description(f\"sub_b_{aoi_name}\")\n",
        "\n",
        "  task = ee.batch.Export.table.toDrive(\n",
        "      **{  #asterisks unpack dictionary into keyword arguments format\n",
        "          \"collection\": process,\n",
        "          \"description\": task_name,\n",
        "          \"fileFormat\": \"CSV\",\n",
        "          \"folder\":\"sdg1542/sub_b/raw_stats\",\n",
        "      }\n",
        "  )\n",
        "\n",
        "  counter+=1\n",
        "\n",
        "  print (f\"\\r process {counter}/{len(list_of_countries)} {aoi_name} \", end=\"\") #print in place (remove \\r and end=\"\" for verbose version)\n",
        "\n",
        "  if export:\n",
        "    task.start()\n"
      ]
    },
    {
      "cell_type": "code",
      "execution_count": null,
      "metadata": {
        "id": "qkpDfHqQu_f9"
      },
      "outputs": [],
      "source": [
        "from component.scripts.scripts import get_sub_b_data_reports\n",
        "\n",
        "\n",
        "counter = 0\n",
        "for stats_csv_file_path in csv_path.glob(\"[!.]*.csv\"):\n",
        "    counter += 1\n",
        "\n",
        "    # # Clean the AOI name\n",
        "    aoi_name_clean = str(sanitize_description(aoi_name))\n",
        "\n",
        "    message = f\"Process {counter}, {stats_csv_file_path}\"\n",
        "\n",
        "    try:\n",
        "        # Read the results from the CSV file and parse it to a dictionary\n",
        "        results = read_from_csv(stats_csv_file_path)\n",
        "\n",
        "        kwargs = {\n",
        "            \"results\" : results,\n",
        "            \"sub_b_year\" : sub_b_year,\n",
        "            \"transition_matrix\": default_transition_matrix_path,\n",
        "            \"geo_area_name\": aoi_name,\n",
        "            \"ref_area\": \" \",\n",
        "            \"source_detail\": \" \",\n",
        "        }\n",
        "\n",
        "        sub_b_reports = get_sub_b_data_reports(**kwargs)\n",
        "        # sub b reports\n",
        "        er_mtn_dgrp_df = pd.concat([report[0] for report in sub_b_reports])\n",
        "        er_mtn_dgda_df = pd.concat([report[1] for report in sub_b_reports])\n",
        "\n",
        "        # Define the output report file path\n",
        "        report_file_path = raw_reports / f\"{aoi_name_clean}.xlsx\"\n",
        "\n",
        "        # This will create the excel file with the reports\n",
        "        with pd.ExcelWriter(report_file_path) as writer:\n",
        "            er_mtn_dgda_df.to_excel(\n",
        "                writer, sheet_name=\"Table4_ER_MTN_DGRDA\", index=False\n",
        "            )\n",
        "            er_mtn_dgrp_df.to_excel(\n",
        "                writer, sheet_name=\"Table5_ER_MTN_DGRDP\", index=False\n",
        "            )\n",
        "\n",
        "            for sheetname in writer.sheets:\n",
        "                worksheet = writer.sheets[sheetname]\n",
        "                for col in worksheet.columns:\n",
        "                    max_length = 0\n",
        "                    column = col[0]\n",
        "                    for cell in col:\n",
        "                        try:\n",
        "                            if len(str(cell.value)) > max_length:\n",
        "                                max_length = len(cell.value)\n",
        "                        except:\n",
        "                            pass\n",
        "                    adjusted_width = max(max_length, len(str(column.value))) + 4\n",
        "                    worksheet.column_dimensions[\n",
        "                        get_column_letter(column.column)\n",
        "                    ].width = adjusted_width\n",
        "\n",
        "                    # Align \"obs_value\" column to the right\n",
        "                    if \"OBS\" in column.value:\n",
        "                        for cell in col:\n",
        "                            cell.alignment = Alignment(horizontal=\"right\")\n",
        "\n",
        "    except Exception as e:\n",
        "        # If an error occurs, catch the exception and handle it\n",
        "        message = f\"process {counter}, {stats_csv_file_path.stem}, Error: {e}\"\n",
        "\n",
        "        # Get the current time\n",
        "        current_time = datetime.now().strftime(\"%Y-%m-%d %H:%M:%S\")\n",
        "\n",
        "        # Write the error message and file name to the error log file\n",
        "        error_info = pd.DataFrame(\n",
        "            [[stats_csv_file_path.stem, str(e), current_time]],\n",
        "            columns=[\"File Name\", \"Error Message\", \"Time\"],\n",
        "        )\n",
        "\n",
        "        mode = \"w\" if not os.path.exists(error_log_file_path) else \"a\"\n",
        "        header = False if os.path.exists(error_log_file_path) else True\n",
        "\n",
        "        # Append or write to the error log file\n",
        "        error_info.to_csv(error_log_file_path, mode=mode, header=header, index=False)\n",
        "\n",
        "    print(message)\n"
      ]
    },
    {
      "cell_type": "code",
      "execution_count": null,
      "metadata": {
        "id": "sTyhwne7rr9D"
      },
      "outputs": [],
      "source": [
        "raw_reports_files = list(raw_reports.glob(\"[!.]*.xlsx\"))\n",
        "\n",
        "# Print the number of Excel files found in the folder\n",
        "print(f\"Number of Excel files in folder: {len(list(raw_reports_files))}\")\n",
        "\n",
        "append_excel_files(file_paths=raw_reports_files,num_sheets=3,output_file_path=str(final_report_file_path))"
      ]
    }
  ],
  "metadata": {
    "colab": {
      "include_colab_link": true,
      "provenance": []
    },
    "kernelspec": {
      "display_name": "mgci",
      "language": "python",
      "name": "python3"
    },
    "language_info": {
      "codemirror_mode": {
        "name": "ipython",
        "version": 3
      },
      "file_extension": ".py",
      "mimetype": "text/x-python",
      "name": "python",
      "nbconvert_exporter": "python",
      "pygments_lexer": "ipython3",
      "version": "3.10.15"
    }
  },
  "nbformat": 4,
  "nbformat_minor": 0
}
