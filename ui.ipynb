{
 "cells": [
  {
   "cell_type": "code",
   "execution_count": null,
   "id": "6f434bc9",
   "metadata": {},
   "outputs": [],
   "source": [
    "import json\n",
    "from pathlib import Path\n",
    "import ee\n",
    "\n",
    "\n",
    "def authenticate_gee():\n",
    "    \"\"\"Authenticate GEE using the credentials file in the user's home directory.\"\"\"\n",
    "    credential_folder_path = Path.home() / \".config\" / \"earthengine\"\n",
    "    credential_file_path = credential_folder_path / \"credentials\"\n",
    "    credentials = json.loads(credential_file_path.read_text())\n",
    "    project = credentials.get(\"project_id\", credentials.get(\"project\", None))\n",
    "    ee.Initialize(project=project)\n",
    "\n",
    "authenticate_gee()"
   ]
  },
  {
   "cell_type": "code",
   "execution_count": null,
   "id": "6320d7f9-989e-4e60-a809-0453c05affc4",
   "metadata": {
    "tags": []
   },
   "outputs": [],
   "source": [
    "import sepal_ui.sepalwidgets as sw\n",
    "\n",
    "from component.tile.calculation_tile import CalculationTile\n",
    "from component.tile.dashboard_tile import DashboardTile\n",
    "from component.tile.vegetation_tile import VegetationTile\n",
    "from component.tile.aoi_tile import AoiTile\n",
    "from component.widget.calc_params import Calculation\n",
    "from component.model import MgciModel\n",
    "from component.message import cm\n",
    "\n",
    "from sepal_ui.aoi.aoi_model import AoiModel\n",
    "import component.frontend # we need this line"
   ]
  },
  {
   "cell_type": "code",
   "execution_count": null,
   "id": "302a2177-bdae-428d-a1a1-8c758cb32979",
   "metadata": {
    "tags": []
   },
   "outputs": [],
   "source": [
    "# Create an appBar\n",
    "app_bar = sw.AppBar(cm.app.title)"
   ]
  },
  {
   "cell_type": "code",
   "execution_count": null,
   "id": "41695f79-8c81-4c18-bdfc-879b9c567ccd",
   "metadata": {
    "tags": []
   },
   "outputs": [],
   "source": [
    "# create the Html body of your about section\n",
    "about_tile = sw.TileAbout(\"utils/ABOUT.md\")\n",
    "disclaimer_tile = sw.TileDisclaimer()"
   ]
  },
  {
   "cell_type": "code",
   "execution_count": null,
   "id": "6fbf87f8",
   "metadata": {
    "tags": []
   },
   "outputs": [],
   "source": [
    "aoi_tile = AoiTile()\n",
    "model = MgciModel(aoi_tile.view.model)\n",
    "vegetation_tile = VegetationTile(model=model, aoi_model=model.aoi_model)\n",
    "calculation_tile = CalculationTile(model=model, units=\"sqkm\", rsa=True)\n",
    "dashboard_tile = DashboardTile(model)"
   ]
  },
  {
   "cell_type": "code",
   "execution_count": null,
   "id": "dcd06625-8e1b-424a-8639-8b8d04754b5c",
   "metadata": {
    "tags": []
   },
   "outputs": [],
   "source": [
    "app_content = [\n",
    "    aoi_tile,\n",
    "    vegetation_tile,\n",
    "    calculation_tile,\n",
    "    dashboard_tile,\n",
    "    about_tile,\n",
    "    disclaimer_tile,\n",
    "]"
   ]
  },
  {
   "cell_type": "code",
   "execution_count": null,
   "id": "adf89022-8220-4731-8a06-111f28c4edbc",
   "metadata": {
    "tags": []
   },
   "outputs": [],
   "source": [
    "items = [\n",
    "    sw.DrawerItem(cm.app.drawer_item.aoi, \"mdi-map-marker-check\", card=\"aoi_tile\"),\n",
    "    sw.DrawerItem(cm.app.drawer_item.vegetation, \"mdi-pine-tree\", card=\"vegetation_tile\"),\n",
    "    sw.DrawerItem(cm.app.drawer_item.calculation, \"mdi-cogs\", card=\"calculation_tile\"),\n",
    "    sw.DrawerItem(cm.app.drawer_item.dashboard, \"mdi-view-dashboard\", card=\"dashboard_tile\"),\n",
    "    sw.DrawerItem(cm.app.drawer_item.about, \"mdi-help-circle\", card=\"about_tile\"),\n",
    "]\n",
    "\n",
    "# !!! not mandatory !!!\n",
    "# Add the links to the code, wiki and issue tracker of your\n",
    "code_link = \"https://github.com/dfguerrerom/sepal_mgci\"\n",
    "wiki_link = \"https://docs.sepal.io/en/latest/modules/dwn/sepal_mgci.html\"\n",
    "issue_link = \"https://github.com/dfguerrerom/sepal_mgci/issues/new\"\n",
    "\n",
    "# Create the side drawer with all its components\n",
    "# The display_drawer() method link the drawer with the app bar\n",
    "app_drawer = sw.NavDrawer(\n",
    "    items=items, code=code_link, wiki=wiki_link, issue=issue_link\n",
    ").display_drawer(app_bar.toggle_button)"
   ]
  },
  {
   "cell_type": "code",
   "execution_count": null,
   "id": "25cca845-9098-4771-b0cd-be4fbe0389bf",
   "metadata": {
    "tags": []
   },
   "outputs": [],
   "source": [
    "# build the Html final app by gathering everything\n",
    "app = sw.App(tiles=app_content, appBar=app_bar, navDrawer=app_drawer).show_tile(\n",
    "    \"about_tile\"\n",
    ")"
   ]
  },
  {
   "cell_type": "code",
   "execution_count": null,
   "id": "81605f26-1ed3-4bdb-8c17-706c5c07fa38",
   "metadata": {
    "tags": []
   },
   "outputs": [],
   "source": [
    "app"
   ]
  },
  {
   "cell_type": "markdown",
   "id": "679fc8c1-8a60-4c4f-bad4-e7d97071f5a6",
   "metadata": {},
   "source": [
    "<center><h1 class=\"text-center h3\" id=\"loading-app\">Setting things up for you... Thanks for waiting!</h1></center>"
   ]
  }
 ],
 "metadata": {
  "kernelspec": {
   "display_name": " (venv) SDG 15.4.2 Indicator: Mountain Green Cover Index",
   "language": "python",
   "name": "venv-sepal_mgci"
  },
  "language_info": {
   "codemirror_mode": {
    "name": "ipython",
    "version": 3
   },
   "file_extension": ".py",
   "mimetype": "text/x-python",
   "name": "python",
   "nbconvert_exporter": "python",
   "pygments_lexer": "ipython3",
   "version": "3.8.10"
  }
 },
 "nbformat": 4,
 "nbformat_minor": 5
}
