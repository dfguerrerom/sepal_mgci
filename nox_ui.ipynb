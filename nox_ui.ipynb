{
 "cells": [
  {
   "cell_type": "code",
   "execution_count": 1,
   "id": "6320d7f9-989e-4e60-a809-0453c05affc4",
   "metadata": {
    "tags": []
   },
   "outputs": [
    {
     "data": {
      "text/html": [
       "<style>/*******************************************************************************\n",
       " * Customization of the provided css from the different libs used by sepal_ui\n",
       " */\n",
       "\n",
       "/* replace the map panel elements on top */\n",
       ".leaflet-pane,\n",
       ".leaflet-top,\n",
       ".leaflet-bottom {\n",
       "  z-index: 2 !important;\n",
       "}\n",
       "\n",
       "/* remove the shadow from the widgets on the maps */\n",
       ".leaflet-widgetcontrol {\n",
       "  box-shadow: none;\n",
       "}\n",
       "\n",
       "/* remove extra padding on top of the content */\n",
       "main.v-content {\n",
       "  padding-top: 0px !important;\n",
       "}\n",
       "\n",
       ".v-alert__wrapper .progress {\n",
       "  background-color: transparent;\n",
       "}\n",
       "\n",
       "/* set the bar on top of the map (800) when set to fullscreen */\n",
       "header.v-app-bar {\n",
       "  z-index: 800 !important;\n",
       "}\n",
       "\n",
       "/* set the menu_content on top of the map when it's set to fullscreen */\n",
       ".v-menu__content {\n",
       "  max-width: 100% !important;\n",
       "  z-index: 801 !important;\n",
       "}\n",
       "\n",
       "/* make sure navigation drawers are always visible when they exist */\n",
       "nav.v-navigation-drawer {\n",
       "  z-index: 900 !important;\n",
       "}\n",
       "\n",
       "/* create extra position for the leaflet map controls */\n",
       ".leaflet-center {\n",
       "  left: 50%;\n",
       "  transform: translate(-50%, 0%);\n",
       "}\n",
       "\n",
       ".leaflet-middle {\n",
       "  top: 50%;\n",
       "  position: absolute;\n",
       "  z-index: 1000;\n",
       "  pointer-events: none;\n",
       "  transform: translate(0%, -50%);\n",
       "}\n",
       "\n",
       ".leaflet-center.leaflet-middle {\n",
       "  transform: translate(-50%, -50%);\n",
       "}\n",
       "\n",
       "/* create extra classes to customize the layer_control table */\n",
       ".v-no-hover:hover {\n",
       "  background-color: transparent !important;\n",
       "}\n",
       "\n",
       ".v-no-border tbody tr td,\n",
       ".v-no-border tbody tr th {\n",
       "  border: none !important;\n",
       "}\n",
       "\n",
       "/* extra css rules to make the messages disappear beneath the SimpleSlider */\n",
       ".v-no-messages .v-messages {\n",
       "  display: none;\n",
       "}\n",
       "\n",
       ".v-no-messages .v-input__slot {\n",
       "  margin-bottom: 0;\n",
       "}\n",
       "\n",
       "/* specific css for the btn placed on maps */\n",
       ".v-btn.v-size--default.v-map-btn:not(.v-btn--round) {\n",
       "  padding: 0px;\n",
       "  min-width: 0px;\n",
       "  width: 30px;\n",
       "  height: 30px;\n",
       "}\n",
       "\n",
       "/* add specific css for the zoom btn of the map */\n",
       ".v-btn.v-zoom-plus {\n",
       "  border-bottom-left-radius: 0;\n",
       "  border-bottom-right-radius: 0;\n",
       "}\n",
       "\n",
       ".v-btn.v-zoom-minus {\n",
       "  margin-top: -1px;\n",
       "  border-top-left-radius: 0;\n",
       "  border-top-right-radius: 0;\n",
       "}\n",
       "\n",
       "/* css rules for fullscreen menus */\n",
       ".v-card.v-menu-fullscreen {\n",
       "  width: calc(100vw - 80px);\n",
       "  height: calc(100vh - 20px);\n",
       "}\n",
       "\n",
       "/* hide the disclaimer message placed on top of the ui notebook\n",
       " * the message will be displayed until the css is loaded */\n",
       "#loading-app {\n",
       "  display: none !important;\n",
       "}\n",
       "\n",
       "/* Related with https://github.com/12rambau/sepal_ui/issues/893 */\n",
       "#rendered_cells {\n",
       "  contain: revert !important;\n",
       "  background-color: revert !important;\n",
       "}\n",
       "\n",
       ".full-screen-map > .leaflet-container {\n",
       "  position: fixed !important;\n",
       "  width: 100vw;\n",
       "  height: calc(100vh - 48px);\n",
       "  z-index: 800;\n",
       "  bottom: 0;\n",
       "  left: 0;\n",
       "}\n",
       "</style>"
      ],
      "text/plain": [
       "<IPython.core.display.HTML object>"
      ]
     },
     "metadata": {},
     "output_type": "display_data"
    },
    {
     "data": {
      "text/html": [
       "<link rel=\"stylesheet\" href=\"https://cdnjs.cloudflare.com/ajax/libs/font-awesome/6.2.1/css/all.min.css\"/>"
      ],
      "text/plain": [
       "<IPython.core.display.HTML object>"
      ]
     },
     "metadata": {},
     "output_type": "display_data"
    },
    {
     "data": {
      "application/javascript": [
       "/*******************************************************************************\n",
       " * remove any links from fontawesome 5 created by jupyter in favor of\n",
       " * fontawesome 6. to be removed when Jupyter updates it\n",
       " */\n",
       "\n",
       "function remove_fa5() {\n",
       "  let links = document.querySelectorAll(\n",
       "    \"link[href^='https://cdn.jsdelivr.net/npm/@fortawesome/fontawesome-free@^5']\"\n",
       "  );\n",
       "\n",
       "  links.forEach((link) => link.remove());\n",
       "}\n",
       "\n",
       "if (document.readyState != \"loading\") remove_fa5();\n",
       "else document.addEventListener(\"DOMContentLoaded\", remove_fa5);\n"
      ],
      "text/plain": [
       "<IPython.core.display.Javascript object>"
      ]
     },
     "metadata": {},
     "output_type": "display_data"
    },
    {
     "data": {
      "application/vnd.jupyter.widget-view+json": {
       "model_id": "a4d8cc9220e0470cb75de87dff2d025f",
       "version_major": 2,
       "version_minor": 0
      },
      "text/plain": [
       "ResizeTrigger()"
      ]
     },
     "metadata": {},
     "output_type": "display_data"
    },
    {
     "data": {
      "text/html": [
       "<style>/* set the menu_content on top of the map when it's set to fullscreen */\n",
       ".v-menu__content {\n",
       "    z-index: 802 !important;\n",
       "  }\n",
       "  \n",
       "/* This is when this runs on jupyter lab 4 */\n",
       ".aoi_map.jupyter-widgets.leaflet-widgets {\n",
       "  height: 84vh !important;\n",
       "}\n",
       "\n",
       "/* This is when this runs on jupyter lab < 4 */\n",
       ".aoi_map .jupyter-widgets.leaflet-widgets {\n",
       "  height: 84vh !important;\n",
       "}\n",
       "\n",
       "/* This is when this runs on jupyter lab < 4 */\n",
       ".results_map .jupyter-widgets.leaflet-widgets {\n",
       "  height: 72vh !important;\n",
       "}\n",
       "\n",
       "/* This is when this runs on jupyter lab 4 */\n",
       ".results_map.jupyter-widgets.leaflet-widgets {\n",
       "  height: 72vh !important;\n",
       "}</style>"
      ],
      "text/plain": [
       "<IPython.core.display.HTML object>"
      ]
     },
     "metadata": {},
     "output_type": "display_data"
    }
   ],
   "source": [
    "from sepal_ui.scripts.utils import init_ee\n",
    "init_ee()\n",
    "\n",
    "import sepal_ui.sepalwidgets as sw\n",
    "\n",
    "from component.tile.calculation_tile import CalculationTile\n",
    "from component.tile.dashboard_tile import DashboardTile\n",
    "from component.tile.vegetation_tile import VegetationTile\n",
    "from component.tile.aoi_tile import AoiTile\n",
    "from component.tile.task_tile import TaskTile\n",
    "\n",
    "from component.widget.calc_params import Calculation\n",
    "from component.model import MgciModel\n",
    "from component.message import cm\n",
    "\n",
    "from sepal_ui.aoi.aoi_model import AoiModel\n",
    "import component.frontend # we need this line"
   ]
  },
  {
   "cell_type": "code",
   "execution_count": null,
   "id": "302a2177-bdae-428d-a1a1-8c758cb32979",
   "metadata": {
    "tags": []
   },
   "outputs": [],
   "source": [
    "# Create an appBar\n",
    "app_bar = sw.AppBar(cm.app.title)"
   ]
  },
  {
   "cell_type": "code",
   "execution_count": null,
   "id": "41695f79-8c81-4c18-bdfc-879b9c567ccd",
   "metadata": {
    "tags": []
   },
   "outputs": [],
   "source": [
    "# create the Html body of your about section\n",
    "about_tile = sw.TileAbout(\"utils/ABOUT.md\")\n",
    "disclaimer_tile = sw.TileDisclaimer()"
   ]
  },
  {
   "cell_type": "code",
   "execution_count": null,
   "id": "6fbf87f8",
   "metadata": {
    "tags": []
   },
   "outputs": [],
   "source": [
    "aoi_tile = AoiTile()\n",
    "model = MgciModel(aoi_tile.view.model)\n",
    "vegetation_tile = VegetationTile(model=model, aoi_model=model.aoi_model)\n",
    "calculation_tile = CalculationTile(model=model, units=\"sqkm\", rsa=True)\n",
    "dashboard_tile = DashboardTile(model)\n",
    "task_tile = TaskTile()"
   ]
  },
  {
   "cell_type": "code",
   "execution_count": null,
   "id": "dcd06625-8e1b-424a-8639-8b8d04754b5c",
   "metadata": {
    "tags": []
   },
   "outputs": [],
   "source": [
    "app_content = [\n",
    "    aoi_tile,\n",
    "    vegetation_tile,\n",
    "    calculation_tile,\n",
    "    dashboard_tile,\n",
    "    task_tile,\n",
    "    about_tile,\n",
    "    disclaimer_tile,\n",
    "]"
   ]
  },
  {
   "cell_type": "code",
   "execution_count": null,
   "id": "adf89022-8220-4731-8a06-111f28c4edbc",
   "metadata": {
    "tags": []
   },
   "outputs": [],
   "source": [
    "items = [\n",
    "    sw.DrawerItem(cm.app.drawer_item.aoi, \"mdi-map-marker-check\", card=\"aoi_tile\"),\n",
    "    sw.DrawerItem(cm.app.drawer_item.vegetation, \"mdi-pine-tree\", card=\"vegetation_tile\"),\n",
    "    sw.DrawerItem(cm.app.drawer_item.calculation, \"mdi-cogs\", card=\"calculation_tile\"),\n",
    "    sw.DrawerItem(cm.app.drawer_item.dashboard, \"mdi-view-dashboard\", card=\"dashboard_tile\"),\n",
    "    sw.DrawerItem(cm.app.drawer_item.task, \"mdi-table\", card=\"task_tile\"),\n",
    "    sw.DrawerItem(cm.app.drawer_item.about, \"mdi-help-circle\", card=\"about_tile\"),\n",
    "]\n",
    "\n",
    "# !!! not mandatory !!!\n",
    "# Add the links to the code, wiki and issue tracker of your\n",
    "code_link = \"https://github.com/dfguerrerom/sepal_mgci\"\n",
    "wiki_link = \"https://docs.sepal.io/en/latest/modules/dwn/sepal_mgci.html\"\n",
    "issue_link = \"https://github.com/dfguerrerom/sepal_mgci/issues/new\"\n",
    "\n",
    "# Create the side drawer with all its components\n",
    "# The display_drawer() method link the drawer with the app bar\n",
    "app_drawer = sw.NavDrawer(\n",
    "    items=items, code=code_link, wiki=wiki_link, issue=issue_link\n",
    ").display_drawer(app_bar.toggle_button)"
   ]
  },
  {
   "cell_type": "code",
   "execution_count": null,
   "id": "25cca845-9098-4771-b0cd-be4fbe0389bf",
   "metadata": {
    "tags": []
   },
   "outputs": [],
   "source": [
    "# build the Html final app by gathering everything\n",
    "app = sw.App(tiles=app_content, appBar=app_bar, navDrawer=app_drawer).show_tile(\n",
    "    \"about_tile\"\n",
    ")"
   ]
  },
  {
   "cell_type": "code",
   "execution_count": null,
   "id": "81605f26-1ed3-4bdb-8c17-706c5c07fa38",
   "metadata": {
    "tags": []
   },
   "outputs": [],
   "source": [
    "app"
   ]
  }
 ],
 "metadata": {
  "kernelspec": {
   "display_name": "(test) test-sepal_mgci",
   "language": "python",
   "name": "test-sepal_mgci"
  },
  "language_info": {
   "codemirror_mode": {
    "name": "ipython",
    "version": 3
   },
   "file_extension": ".py",
   "mimetype": "text/x-python",
   "name": "python",
   "nbconvert_exporter": "python",
   "pygments_lexer": "ipython3",
   "version": "3.12.4"
  }
 },
 "nbformat": 4,
 "nbformat_minor": 5
}
