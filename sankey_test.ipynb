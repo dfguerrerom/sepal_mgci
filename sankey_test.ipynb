{
 "cells": [
  {
   "cell_type": "code",
   "execution_count": null,
   "id": "a9c82708-c74d-4474-a8e3-90f8a5017cde",
   "metadata": {},
   "outputs": [],
   "source": [
    "%load_ext autoreload\n",
    "%autoreload 2"
   ]
  },
  {
   "cell_type": "markdown",
   "id": "8f2a7ab9-6459-4156-be23-01d8ec3b8b87",
   "metadata": {},
   "source": [
    "# Parse the sub_b results csv file"
   ]
  },
  {
   "cell_type": "code",
   "execution_count": null,
   "id": "433a33a4-3c39-4791-9267-8fd0e73a9934",
   "metadata": {},
   "outputs": [],
   "source": [
    "from component.scripts.scripts import read_from_csv, parse_sub_b_year"
   ]
  },
  {
   "cell_type": "code",
   "execution_count": null,
   "id": "532f4bae-7aa1-43e3-ad9b-35e810fc0ae2",
   "metadata": {},
   "outputs": [],
   "source": [
    "stats_csv_file_path = 'content/sdg1542/sub_b/raw_stats/sub_b_Albania.csv'"
   ]
  },
  {
   "cell_type": "code",
   "execution_count": null,
   "id": "669936d6-2f0d-40f9-bf58-c6f831a9c55a",
   "metadata": {},
   "outputs": [],
   "source": [
    "results = read_from_csv(stats_csv_file_path)"
   ]
  },
  {
   "cell_type": "code",
   "execution_count": null,
   "id": "e65813a8-23bb-4541-84ae-d8eb27ce964b",
   "metadata": {},
   "outputs": [],
   "source": [
    "results"
   ]
  },
  {
   "cell_type": "markdown",
   "id": "21cc5568-0665-430f-af9e-fa9bf3adbb0d",
   "metadata": {},
   "source": [
    "## Create a sankey plot for the baseline period using Python"
   ]
  },
  {
   "cell_type": "code",
   "execution_count": null,
   "id": "c83691db-ee94-4373-a5ec-ce6456089140",
   "metadata": {},
   "outputs": [],
   "source": [
    "# Use one or the other\n",
    "years_to_parse = {'baseline':[2000, 2015]} # this is to parse the baseline"
   ]
  },
  {
   "cell_type": "code",
   "execution_count": null,
   "id": "a0d0f957-ad06-45fa-b5d2-00ec7e7e1429",
   "metadata": {},
   "outputs": [],
   "source": [
    "parsed_df = parse_sub_b_year(results, years_to_parse)"
   ]
  },
  {
   "cell_type": "code",
   "execution_count": null,
   "id": "a158db5c-4f0c-4d75-a8dd-6ce9069b3167",
   "metadata": {},
   "outputs": [],
   "source": [
    "parsed_df"
   ]
  },
  {
   "cell_type": "code",
   "execution_count": null,
   "id": "93e5fd10-cec5-46cc-95a4-d3972927cc99",
   "metadata": {},
   "outputs": [],
   "source": [
    "from component.scripts.plots import get_nodes_and_links, get_sankey_chart\n",
    "import component.parameter.module_parameter as param"
   ]
  },
  {
   "cell_type": "code",
   "execution_count": null,
   "id": "1d848e7a-afa7-4200-8c13-42081b640f69",
   "metadata": {},
   "outputs": [],
   "source": [
    "# Set the file where are the LC_classes, it is the lc_classification.csv\n",
    "lc_classes_path = param.LC_CLASSES"
   ]
  },
  {
   "cell_type": "code",
   "execution_count": null,
   "id": "8258d945-a2c6-4334-95d5-0962b1fa9617",
   "metadata": {},
   "outputs": [],
   "source": [
    "# The sankey graph needs nodes and links \n",
    "# As described here: https://echarts.apache.org/examples/en/editor.html?c=sankey-simple\n",
    "\n",
    "nodes_and_links = get_nodes_and_links(\n",
    "    parsed_df, \n",
    "    lc_classes_path,\n",
    "    [2000, 2015]\n",
    ")\n",
    "# print which are the biobetls present \n",
    "nodes_and_links.keys()"
   ]
  },
  {
   "cell_type": "code",
   "execution_count": null,
   "id": "1979796c-bab9-47c9-830b-f0b094904613",
   "metadata": {},
   "outputs": [],
   "source": [
    "# asign nodes and links for biobelt 2\n",
    "belt_data = nodes_and_links[2]"
   ]
  },
  {
   "cell_type": "code",
   "execution_count": null,
   "id": "94875d62-6af6-4f05-9305-54aa98a914aa",
   "metadata": {},
   "outputs": [],
   "source": [
    "sankey_data, chart = get_sankey_chart()"
   ]
  },
  {
   "cell_type": "code",
   "execution_count": null,
   "id": "4f30867b-b6af-4a41-af93-02ca21cfba47",
   "metadata": {},
   "outputs": [],
   "source": [
    "sankey_data.nodes = belt_data[\"nodes\"]\n",
    "sankey_data.links = belt_data[\"links\"]"
   ]
  },
  {
   "cell_type": "code",
   "execution_count": null,
   "id": "04ecce37-f212-4f86-927a-a9172b25c779",
   "metadata": {},
   "outputs": [],
   "source": [
    "chart"
   ]
  },
  {
   "cell_type": "code",
   "execution_count": null,
   "id": "b803a32d-595b-4823-abf4-545fd8798569",
   "metadata": {},
   "outputs": [],
   "source": []
  }
 ],
 "metadata": {
  "kernelspec": {
   "display_name": "Python 3 (ipykernel)",
   "language": "python",
   "name": "python3"
  },
  "language_info": {
   "codemirror_mode": {
    "name": "ipython",
    "version": 3
   },
   "file_extension": ".py",
   "mimetype": "text/x-python",
   "name": "python",
   "nbconvert_exporter": "python",
   "pygments_lexer": "ipython3",
   "version": "3.10.15"
  }
 },
 "nbformat": 4,
 "nbformat_minor": 5
}
